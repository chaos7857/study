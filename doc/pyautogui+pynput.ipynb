{
 "cells": [
  {
   "cell_type": "markdown",
   "metadata": {},
   "source": [
    "# pyautogui\n",
    "\n",
    "### 鼠标控制\n",
    "这里一个小工具，`pyautogui.mouseInfo()`可以寻找鼠标坐标"
   ]
  },
  {
   "cell_type": "code",
   "execution_count": 1,
   "metadata": {},
   "outputs": [
    {
     "ename": "SyntaxError",
     "evalue": "invalid character '，' (U+FF0C) (1830652164.py, line 12)",
     "output_type": "error",
     "traceback": [
      "\u001b[1;36m  Cell \u001b[1;32mIn[1], line 12\u001b[1;36m\u001b[0m\n\u001b[1;33m    pg.click(x=moveToX, y=moveToY, clicks=num_of_clicks, interval=secs_between_clicks，button = 'left')\u001b[0m\n\u001b[1;37m                                                                                     ^\u001b[0m\n\u001b[1;31mSyntaxError\u001b[0m\u001b[1;31m:\u001b[0m invalid character '，' (U+FF0C)\n"
     ]
    }
   ],
   "source": [
    "import pyautogui as pg\n",
    "# 在num_Second秒内将鼠标移动到指定坐标\n",
    "pg.moveTo(x, y, duration=num_seconds)\n",
    "# 相对于鼠标当前位置移动鼠标\n",
    "pg.moveRel(xOffset, yOffset, duration=num_seconds)  \n",
    "# 在num_Second秒内将鼠标拖动到指定坐标\n",
    "pg.dragTo(x, y, duration=num_seconds) \n",
    "# 相对于鼠标当前位置拖动鼠标\n",
    "pg.dragRel(xOffset, yOffset, duration=num_seconds)\n",
    "\n",
    "# 单击\n",
    "pg.click(x=moveToX, y=moveToY, clicks=num_of_clicks, interval=secs_between_clicks，button = 'left')\n",
    "#单独调用鼠标的按下和松开事件 \n",
    "pg.mouseDown(x=moveToX, y=moveToY, button='left')\n",
    "pg.mouseUp(x=moveToX, y=moveToY, button='left')\n",
    "\n",
    "#单独调用指定键的点击事件\n",
    "pg.rightClick(x=moveToX, y=moveToY)\n",
    "pg.middleClick(x=moveToX, y=moveToY)\n",
    "pg.doubleClick(x=moveToX, y=moveToY)\n",
    "pg.tripleClick(x=moveToX, y=moveToY)\n",
    "\n",
    "#正数控制滚轮将向上滚动，负数控制滚轮将向下滚动\n",
    "pg.scroll(amount_to_scroll, x=moveToX, y=moveToY)\n",
    "# 垂直滚动鼠标\n",
    "pg.vscroll(amount_to_scroll)\n",
    "# 水平滚动鼠标\n",
    "pg.hscroll(amount_to_scroll)"
   ]
  },
  {
   "cell_type": "markdown",
   "metadata": {},
   "source": [
    "### 键盘控制"
   ]
  },
  {
   "cell_type": "code",
   "execution_count": null,
   "metadata": {},
   "outputs": [],
   "source": [
    "# 在键盘光标处输入指定文本\n",
    "pg.typewrite('Hello world!\\n', interval=secs_between_keys) \n",
    "# 传递密钥等\n",
    "pg.typewrite(['a', 'b', 'c', 'left', 'backspace', 'enter', 'f1'], interval=secs_between_keys) \n",
    "\n",
    "#键盘热键(如Ctrl-S或Ctrl-Shift-1)可以通过将键名称列表传递给hotkey()来完成：\n",
    "pg.hotkey('ctrl', 'c')  \n",
    "pg.hotkey('ctrl', 'v')  \n",
    "\n",
    "# 单独调用按钮的点击事件和松开事件：\n",
    "pg.keyDown('键名称')\n",
    "pg.keyUp('键名称') "
   ]
  },
  {
   "cell_type": "markdown",
   "metadata": {},
   "source": [
    "### 消息框"
   ]
  },
  {
   "cell_type": "code",
   "execution_count": null,
   "metadata": {},
   "outputs": [],
   "source": [
    "pg.alert('这将显示带有确定按钮的文本。')\n",
    "pg.confirm('这将显示带有确定和取消按钮的文本。')\n",
    "pg.prompt('这样用户就可以输入一个字符串，然后按确定。')\n",
    "# 显示一个简单的消息框，其中包含文本和一个确定按钮。返回单击的按钮的文本\n",
    "pg.alert(text='', title='', button='OK')\n",
    "# 显示带有确定和取消按钮的消息框。可以自定义按钮的数量和文本。返回单击的按钮的文本\n",
    "pg.confirm(text='', title='', buttons=['OK', 'Cancel'])\n",
    "# 显示带有文本输入和确定和取消按钮的消息框。返回输入的文本，如果单击了取消，则返回None。\n",
    "pg.prompt(text='', title='' , default='')\n",
    "# 显示带有文本输入和确定和取消按钮的消息框。键入的字符显示为*。返回输入的文本，如果单击了取消，则返回None。\n",
    "pg.password(text='', title='', default='', mask='*')"
   ]
  },
  {
   "cell_type": "markdown",
   "metadata": {},
   "source": [
    "### 截图"
   ]
  },
  {
   "cell_type": "code",
   "execution_count": null,
   "metadata": {},
   "outputs": [],
   "source": [
    "pg.screenshot()  # 返回Pillow/PIL图像对象\n",
    "pg.screenshot('foo.png')  # 返回Pillow/PIL图像对象，并将其保存到文件\n",
    "pg.screenshot(region=(0,0, 300, 400))  # 捕获指定范围\n",
    "pg.locateOnScreen('looksLikeThis.png') #返回在当前界面找到第一个图标位置的元组 (left, top, width, height) \n",
    "\n",
    "LocateAllOnScreen()# 函数将返回屏幕上找到的所有位置的生成器\n",
    "\n",
    "for i in pg.locateAllOnScreen('looksLikeThis.png')\n",
    "\n",
    "#返回屏幕上图像所在位置的XY坐标。\n",
    "# 返回中心坐标 (898，423)\n",
    "pg.locateCenterOnScreen('looksLikeThis.png')  "
   ]
  },
  {
   "cell_type": "markdown",
   "metadata": {},
   "source": [
    "# pynput\n",
    "### 键盘监听"
   ]
  },
  {
   "cell_type": "code",
   "execution_count": null,
   "metadata": {},
   "outputs": [],
   "source": [
    "import pynput.keyboard as pk\n",
    "def on_press(key):\n",
    "    # 监听按键\n",
    "    key=str(key)[1]\n",
    "    print(\"按键为\",key)\n",
    "\n",
    "#连接事件以及释放\n",
    "\n",
    "with pk.Listener(on_press=on_press) as pklistener:\n",
    "    pklistener.join()\n"
   ]
  },
  {
   "cell_type": "markdown",
   "metadata": {},
   "source": [
    "### 鼠标监听"
   ]
  },
  {
   "cell_type": "code",
   "execution_count": null,
   "metadata": {},
   "outputs": [],
   "source": [
    "import pynput.mouse as pm\n",
    "import threading\n",
    "def on_click(x, y, button, pressed):\n",
    "    # 监听鼠标点击\n",
    "    if pressed:\n",
    "        print(\"按下坐标\")\n",
    "        mxy=\"{},{}\".format(x, y)\n",
    "        print(mxy)\n",
    "        print(button)\n",
    "    if not pressed:\n",
    "        # Stop listener\n",
    "        return False\n",
    "def ls_k_thread():\n",
    "    while(1):\n",
    "        with pm.Listener(on_click=on_click) as pmlistener:\n",
    "            pmlistener.join()\n",
    "def analyse_pic_thread():\n",
    "    r = threading.Thread(target=ls_k_thread)\n",
    "    r.start()\n",
    "analyse_pic_thread()"
   ]
  }
 ],
 "metadata": {
  "kernelspec": {
   "display_name": "crawl",
   "language": "python",
   "name": "python3"
  },
  "language_info": {
   "codemirror_mode": {
    "name": "ipython",
    "version": 3
   },
   "file_extension": ".py",
   "mimetype": "text/x-python",
   "name": "python",
   "nbconvert_exporter": "python",
   "pygments_lexer": "ipython3",
   "version": "3.11.8"
  }
 },
 "nbformat": 4,
 "nbformat_minor": 2
}
