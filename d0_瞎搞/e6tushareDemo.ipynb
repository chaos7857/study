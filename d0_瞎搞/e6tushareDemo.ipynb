{
 "cells": [
  {
   "cell_type": "code",
   "execution_count": 1,
   "id": "df87827d",
   "metadata": {},
   "outputs": [
    {
     "name": "stdout",
     "output_type": "stream",
     "text": [
      "        ts_code trade_date   open   high    low  close  pre_close  change  \\\n",
      "0     600361.SH   20231024   4.79   4.90   4.74   4.89       4.77    0.12   \n",
      "1     600362.SH   20231024  17.55  17.67  17.41  17.66      17.48    0.18   \n",
      "2     600363.SH   20231024  29.15  30.25  28.99  29.80      29.15    0.65   \n",
      "3     600365.SH   20231024   3.91   4.02   3.86   3.97       4.06   -0.09   \n",
      "4     600366.SH   20231024   6.53   6.78   6.51   6.69       6.53    0.16   \n",
      "...         ...        ...    ...    ...    ...    ...        ...     ...   \n",
      "5285  301192.SZ   20231024  21.69  22.76  21.53  22.40      21.53    0.87   \n",
      "5286  301193.SZ   20231024  15.77  16.15  15.65  16.10      15.65    0.45   \n",
      "5287  301195.SZ   20231024  38.73  40.20  38.18  39.50      38.68    0.82   \n",
      "5288  301196.SZ   20231024  31.68  32.41  31.39  32.32      31.37    0.95   \n",
      "5289  301197.SZ   20231024  17.94  18.88  17.84  18.76      17.82    0.94   \n",
      "\n",
      "      pct_chg        vol      amount  \n",
      "0      2.5157   54656.00   26508.724  \n",
      "1      1.0297   94848.01  166537.621  \n",
      "2      2.2298   54405.62  161271.844  \n",
      "3     -2.2167  136572.20   53860.960  \n",
      "4      2.4502   89744.62   59607.233  \n",
      "...       ...        ...         ...  \n",
      "5285   4.0409   16806.50   37408.930  \n",
      "5286   2.8754   10968.91   17476.217  \n",
      "5287   2.1200    8541.23   33570.070  \n",
      "5288   3.0284    5446.58   17483.814  \n",
      "5289   5.2750   16690.45   31030.195  \n",
      "\n",
      "[5290 rows x 11 columns]\n"
     ]
    }
   ],
   "source": [
    "import tushare as ts\n",
    "pro = ts.pro_api()\n",
    "df = pro.daily(trade_date='20231024')\n",
    "print(df)"
   ]
  },
  {
   "cell_type": "code",
   "execution_count": null,
   "id": "997b4b61",
   "metadata": {},
   "outputs": [],
   "source": []
  }
 ],
 "metadata": {
  "kernelspec": {
   "display_name": "Python [conda env:.conda-pytorch] *",
   "language": "python",
   "name": "conda-env-.conda-pytorch-py"
  },
  "language_info": {
   "codemirror_mode": {
    "name": "ipython",
    "version": 3
   },
   "file_extension": ".py",
   "mimetype": "text/x-python",
   "name": "python",
   "nbconvert_exporter": "python",
   "pygments_lexer": "ipython3",
   "version": "3.6.13"
  }
 },
 "nbformat": 4,
 "nbformat_minor": 5
}
