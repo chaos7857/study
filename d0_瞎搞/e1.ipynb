{
 "cells": [
  {
   "cell_type": "code",
   "execution_count": 1,
   "id": "3308cdb2",
   "metadata": {},
   "outputs": [],
   "source": [
    "import torch"
   ]
  },
  {
   "cell_type": "code",
   "execution_count": 14,
   "id": "56b9e174",
   "metadata": {},
   "outputs": [
    {
     "ename": "TypeError",
     "evalue": "randint(): argument 'size' (position 2) must be tuple of ints, not int",
     "output_type": "error",
     "traceback": [
      "\u001b[1;31m---------------------------------------------------------------------------\u001b[0m",
      "\u001b[1;31mTypeError\u001b[0m                                 Traceback (most recent call last)",
      "\u001b[1;32m<ipython-input-14-7f1d25b89525>\u001b[0m in \u001b[0;36m<module>\u001b[1;34m\u001b[0m\n\u001b[1;32m----> 1\u001b[1;33m \u001b[0ma\u001b[0m \u001b[1;33m=\u001b[0m \u001b[0mtorch\u001b[0m\u001b[1;33m.\u001b[0m\u001b[0mrandint\u001b[0m\u001b[1;33m(\u001b[0m\u001b[1;36m3\u001b[0m\u001b[1;33m,\u001b[0m\u001b[1;36m4\u001b[0m\u001b[1;33m)\u001b[0m\u001b[1;33m\u001b[0m\u001b[1;33m\u001b[0m\u001b[0m\n\u001b[0m\u001b[0;32m      2\u001b[0m \u001b[0mb\u001b[0m \u001b[1;33m=\u001b[0m \u001b[0mtorch\u001b[0m\u001b[1;33m.\u001b[0m\u001b[0mrandint\u001b[0m\u001b[1;33m(\u001b[0m\u001b[1;36m3\u001b[0m\u001b[1;33m,\u001b[0m\u001b[1;36m4\u001b[0m\u001b[1;33m)\u001b[0m\u001b[1;33m\u001b[0m\u001b[1;33m\u001b[0m\u001b[0m\n",
      "\u001b[1;31mTypeError\u001b[0m: randint(): argument 'size' (position 2) must be tuple of ints, not int"
     ]
    }
   ],
   "source": [
    "a = torch.rand(3,4)\n",
    "b = torch.rand(3,4)"
   ]
  },
  {
   "cell_type": "code",
   "execution_count": 3,
   "id": "1ade0769",
   "metadata": {},
   "outputs": [
    {
     "name": "stdout",
     "output_type": "stream",
     "text": [
      "tensor([[0.6506, 0.3147, 0.2792, 0.1694],\n",
      "        [0.1674, 0.5908, 0.5395, 0.6585],\n",
      "        [0.3604, 0.6695, 0.9078, 0.3052]])\n",
      "tensor([[4.0165e-01, 7.5565e-01, 4.9688e-01, 1.3313e-01],\n",
      "        [7.0681e-01, 7.3683e-01, 1.3942e-04, 4.1306e-01],\n",
      "        [3.1088e-01, 2.3650e-01, 6.4853e-02, 5.5721e-01]])\n"
     ]
    }
   ],
   "source": [
    "print(a)\n",
    "print(b)"
   ]
  },
  {
   "cell_type": "code",
   "execution_count": 5,
   "id": "a085621b",
   "metadata": {},
   "outputs": [
    {
     "name": "stdout",
     "output_type": "stream",
     "text": [
      "tensor([[1.0522, 1.0704, 0.7760, 0.3025],\n",
      "        [0.8742, 1.3276, 0.5397, 1.0716],\n",
      "        [0.6713, 0.9060, 0.9727, 0.8624]])\n",
      "tensor([[1.0522, 1.0704, 0.7760, 0.3025],\n",
      "        [0.8742, 1.3276, 0.5397, 1.0716],\n",
      "        [0.6713, 0.9060, 0.9727, 0.8624]])\n",
      "tensor([[1.0522, 1.0704, 0.7760, 0.3025],\n",
      "        [0.8742, 1.3276, 0.5397, 1.0716],\n",
      "        [0.6713, 0.9060, 0.9727, 0.8624]])\n"
     ]
    }
   ],
   "source": [
    "# print(a+b)\n",
    "# print(torch.add(a,b))\n",
    "\n",
    "c = torch.Tensor(3,4)\n",
    "print(torch.add(a,b,out=c))"
   ]
  },
  {
   "cell_type": "code",
   "execution_count": 10,
   "id": "f2e62ba0",
   "metadata": {},
   "outputs": [
    {
     "name": "stdout",
     "output_type": "stream",
     "text": [
      "tensor([[ 0.2489, -0.4410, -0.2177,  0.0362],\n",
      "        [-0.5394, -0.1460,  0.5394,  0.2455],\n",
      "        [ 0.0495,  0.4330,  0.8430, -0.2520]])\n"
     ]
    },
    {
     "data": {
      "text/plain": [
       "tensor([[ 0.2489, -0.4410, -0.2177,  0.0362],\n",
       "        [-0.5394, -0.1460,  0.5394,  0.2455],\n",
       "        [ 0.0495,  0.4330,  0.8430, -0.2520]])"
      ]
     },
     "execution_count": 10,
     "metadata": {},
     "output_type": "execute_result"
    }
   ],
   "source": [
    "# print(a-b)\n",
    "torch.sub(a,b)"
   ]
  },
  {
   "cell_type": "code",
   "execution_count": 12,
   "id": "d3ccd4f9",
   "metadata": {},
   "outputs": [
    {
     "data": {
      "text/plain": [
       "tensor([[2.6130e-01, 2.3780e-01, 1.3871e-01, 2.2549e-02],\n",
       "        [1.1832e-01, 4.3530e-01, 7.5216e-05, 2.7202e-01],\n",
       "        [1.1203e-01, 1.5834e-01, 5.8874e-02, 1.7005e-01]])"
      ]
     },
     "execution_count": 12,
     "metadata": {},
     "output_type": "execute_result"
    }
   ],
   "source": [
    "# a*b\n",
    "torch.mul(a,b)"
   ]
  },
  {
   "cell_type": "code",
   "execution_count": 16,
   "id": "5b079d5d",
   "metadata": {},
   "outputs": [
    {
     "data": {
      "text/plain": [
       "tensor([[1.6198e+00, 4.1646e-01, 5.6184e-01, 1.2722e+00],\n",
       "        [2.3684e-01, 8.0179e-01, 3.8698e+03, 1.5943e+00],\n",
       "        [1.1592e+00, 2.8310e+00, 1.3998e+01, 5.4770e-01]])"
      ]
     },
     "execution_count": 16,
     "metadata": {},
     "output_type": "execute_result"
    }
   ],
   "source": [
    "# a/b\n",
    "torch.div(a,b)"
   ]
  },
  {
   "cell_type": "code",
   "execution_count": 17,
   "id": "a256acb0",
   "metadata": {},
   "outputs": [
    {
     "data": {
      "text/plain": [
       "tensor([[0.6506, 0.3147, 0.2792, 0.1694],\n",
       "        [0.1674, 0.5908, 0.5395, 0.6585],\n",
       "        [0.3604, 0.6695, 0.9078, 0.3052]])"
      ]
     },
     "execution_count": 17,
     "metadata": {},
     "output_type": "execute_result"
    }
   ],
   "source": [
    "a"
   ]
  },
  {
   "cell_type": "code",
   "execution_count": 19,
   "id": "b741f725",
   "metadata": {},
   "outputs": [
    {
     "data": {
      "text/plain": [
       "tensor([[0.4232, 0.0990, 0.0779, 0.0287],\n",
       "        [0.0280, 0.3490, 0.2911, 0.4337],\n",
       "        [0.1299, 0.4483, 0.8241, 0.0931]])"
      ]
     },
     "execution_count": 19,
     "metadata": {},
     "output_type": "execute_result"
    }
   ],
   "source": [
    "# a.pow(2)\n",
    "a**2"
   ]
  },
  {
   "cell_type": "code",
   "execution_count": null,
   "id": "3845f032",
   "metadata": {},
   "outputs": [],
   "source": []
  }
 ],
 "metadata": {
  "kernelspec": {
   "display_name": "Python [conda env:.conda-pytorch] *",
   "language": "python",
   "name": "conda-env-.conda-pytorch-py"
  },
  "language_info": {
   "codemirror_mode": {
    "name": "ipython",
    "version": 3
   },
   "file_extension": ".py",
   "mimetype": "text/x-python",
   "name": "python",
   "nbconvert_exporter": "python",
   "pygments_lexer": "ipython3",
   "version": "3.6.13"
  }
 },
 "nbformat": 4,
 "nbformat_minor": 5
}
