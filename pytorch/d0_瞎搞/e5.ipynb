{
 "cells": [
  {
   "cell_type": "code",
   "execution_count": 3,
   "id": "492afb61",
   "metadata": {
    "scrolled": false
   },
   "outputs": [
    {
     "name": "stdout",
     "output_type": "stream",
     "text": [
      "        ts_code trade_date   open   high    low  close  pre_close  change  \\\n",
      "0     000729.SZ   20231026   9.60  10.15   9.50   9.92       9.44    0.48   \n",
      "1     000731.SZ   20231026   7.14   7.16   7.05   7.15       7.16   -0.01   \n",
      "2     000733.SZ   20231026  63.96  64.16  62.42  64.15      64.26   -0.11   \n",
      "3     000735.SZ   20231026   5.52   5.59   5.49   5.55       5.55    0.00   \n",
      "4     000736.SZ   20231026  10.86  10.99  10.77  10.87      10.97   -0.10   \n",
      "...         ...        ...    ...    ...    ...    ...        ...     ...   \n",
      "5287  688509.SH   20231026   4.88   4.88   4.77   4.81       4.89   -0.08   \n",
      "5288  688538.SH   20231026   2.57   2.59   2.56   2.58       2.57    0.01   \n",
      "5289  688580.SH   20231026  61.00  61.00  56.01  58.82      67.40   -8.58   \n",
      "5290  688627.SH   20231026  84.11  86.77  83.50  86.11      85.11    1.00   \n",
      "5291  688698.SH   20231026  32.39  33.30  32.10  33.07      32.84    0.23   \n",
      "\n",
      "      pct_chg        vol      amount  \n",
      "0      5.0847  383937.89  379729.607  \n",
      "1     -0.1397   36912.10   26184.431  \n",
      "2     -0.1712   47978.62  304396.089  \n",
      "3      0.0000   66407.00   36752.685  \n",
      "4     -0.9116  101299.85  109907.246  \n",
      "...       ...        ...         ...  \n",
      "5287  -1.6360  106520.63   51171.067  \n",
      "5288   0.3891  188113.00   48525.313  \n",
      "5289 -12.7300   20474.30  118745.890  \n",
      "5290   1.1750    4827.22   41046.819  \n",
      "5291   0.7004    9249.53   30273.936  \n",
      "\n",
      "[5292 rows x 11 columns]\n"
     ]
    }
   ],
   "source": [
    "import torch\n",
    "import torch.nn as nn\n",
    "import torch.optim as optim\n",
    "import numpy as np\n",
    "import tushare as ts\n",
    "# ts.set_token('0b20827a36d143131c269741914587639237998595d9fc3d355d07f6')\n",
    "pro = ts.pro_api()\n",
    "df = pro.daily(trade_date='20231026')\n",
    "print(df)       \n",
    "# df.to_csv('C:\\\\Users\\\\Admin\\\\Desktop\\\\data\\\\20231024.txt',sep='\\t',index=False)\n",
    "df.to_csv('C:\\\\Users\\\\Admin\\\\Desktop\\\\data\\\\20231026.csv',sep=',',index=False,header=False)\n",
    "from tqdm import tqdm\n",
    "import matplotlib.pyplot as plt\n",
    "from copy import deepcopy as copy\n",
    "from torch.utils.data import DataLoader, TensorDataset"
   ]
  },
  {
   "cell_type": "code",
   "execution_count": 9,
   "id": "cfb0db1b",
   "metadata": {},
   "outputs": [],
   "source": [
    "class GetData:\n",
    "    def __init__(self,stock_id, save_path):\n",
    "        self.stock_id = stock_id\n",
    "        self.save_path = save_path\n",
    "        self.data = None\n",
    "        \n",
    "        \n",
    "    def getData(self):\n",
    "        self.data = ts.get_hist_data(self.stock_id).iloc[::-1]\n",
    "        self.data = self.data[[\"open\", \"close\", \"high\", \"low\", \"volume\"]]\n",
    "        self.close_min = self.data['volume'].min()\n",
    "        self.close_max = self.data[\"volume\"].max()\n",
    "        self.data = self.data.apply(lambda x: (x-min(x))/(max(x)-min(x)))\n",
    "        self.data.to_csv(self.save_path)\n",
    "        return self.data\n",
    "    \n",
    "    def process_data(self,n):\n",
    "        if self.data is None:\n",
    "            self.getData()\n",
    "        feature= [\n",
    "            self.data.iloc[i:i+n].values.tolist()\n",
    "            for i in range(len(self.data)-n+2)\n",
    "            if i+n <len(self.data)\n",
    "        ]\n",
    "        label = [\n",
    "            self.data.close.values[i+n]\n",
    "            for i in range(len(self.data)-n+2)\n",
    "            if i+ n < len(self.data)\n",
    "        ]\n",
    "        train_x = feature[:500]\n",
    "        test_x = feature[500:]\n",
    "        train_y = label[:500]\n",
    "        test_y = label[500:]\n",
    "        \n",
    "        return train_x,test_x, train_y, test_y"
   ]
  },
  {
   "cell_type": "code",
   "execution_count": 10,
   "id": "f1a00939",
   "metadata": {},
   "outputs": [],
   "source": [
    "class Model(nn.Module):\n",
    "    def __init__(self,n):\n",
    "        super(Model, self).__init__()\n",
    "        self.lstm_layer = nn.LSTM(input_size = n, hidden_size = 256,batch_first = True)\n",
    "        \n",
    "        \n",
    "    def forward(self, x):\n",
    "        out1, (h_n, h_c) = self.lstm_layer(x)\n",
    "        a,b,c = h_n.shape\n",
    "        out2 = self.linear_layer(h_n.reshape(a*b,c))\n",
    "        return out2"
   ]
  },
  {
   "cell_type": "code",
   "execution_count": 11,
   "id": "e9d27f7a",
   "metadata": {},
   "outputs": [
    {
     "ename": "SyntaxError",
     "evalue": "invalid syntax (<ipython-input-11-455680ca2399>, line 1)",
     "output_type": "error",
     "traceback": [
      "\u001b[1;36m  File \u001b[1;32m\"<ipython-input-11-455680ca2399>\"\u001b[1;36m, line \u001b[1;32m1\u001b[0m\n\u001b[1;33m    def\u001b[0m\n\u001b[1;37m        ^\u001b[0m\n\u001b[1;31mSyntaxError\u001b[0m\u001b[1;31m:\u001b[0m invalid syntax\n"
     ]
    }
   ],
   "source": [
    "def "
   ]
  },
  {
   "cell_type": "code",
   "execution_count": null,
   "id": "6d7f0f99",
   "metadata": {},
   "outputs": [],
   "source": []
  },
  {
   "cell_type": "code",
   "execution_count": null,
   "id": "74117da4",
   "metadata": {},
   "outputs": [],
   "source": []
  }
 ],
 "metadata": {
  "kernelspec": {
   "display_name": "Python 3",
   "language": "python",
   "name": "python3"
  },
  "language_info": {
   "codemirror_mode": {
    "name": "ipython",
    "version": 3
   },
   "file_extension": ".py",
   "mimetype": "text/x-python",
   "name": "python",
   "nbconvert_exporter": "python",
   "pygments_lexer": "ipython3",
   "version": "3.6.13"
  }
 },
 "nbformat": 4,
 "nbformat_minor": 5
}
