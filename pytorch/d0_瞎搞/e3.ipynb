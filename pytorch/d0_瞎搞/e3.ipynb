{
 "cells": [
  {
   "cell_type": "code",
   "execution_count": 1,
   "id": "ba6fb5ae",
   "metadata": {},
   "outputs": [],
   "source": [
    "import torch"
   ]
  },
  {
   "cell_type": "code",
   "execution_count": 6,
   "id": "dff5aa1d",
   "metadata": {},
   "outputs": [],
   "source": [
    "input_data = torch.tensor([1.0,2.0,3.0,4.0])\n",
    "target_data = torch.tensor([4.0,5.0,6.0,7.0])"
   ]
  },
  {
   "cell_type": "code",
   "execution_count": 7,
   "id": "73f7e978",
   "metadata": {},
   "outputs": [],
   "source": [
    "# L1范数损失函数\n",
    "# 均方误差损失函数\n",
    "# 交叉熵LOSS\n",
    "# 余弦相似度LOSS\n",
    "loss1 = torch.nn.L1Loss(reduction='mean')"
   ]
  },
  {
   "cell_type": "code",
   "execution_count": 9,
   "id": "2352663d",
   "metadata": {},
   "outputs": [
    {
     "data": {
      "text/plain": [
       "tensor(3.)"
      ]
     },
     "execution_count": 9,
     "metadata": {},
     "output_type": "execute_result"
    }
   ],
   "source": [
    "loss1(input_data,target_data)"
   ]
  },
  {
   "cell_type": "code",
   "execution_count": 10,
   "id": "1c465f46",
   "metadata": {},
   "outputs": [],
   "source": [
    "entry = torch.nn.CrossEntropyLoss()"
   ]
  },
  {
   "cell_type": "code",
   "execution_count": null,
   "id": "07963505",
   "metadata": {},
   "outputs": [],
   "source": []
  }
 ],
 "metadata": {
  "kernelspec": {
   "display_name": "Python 3",
   "language": "python",
   "name": "python3"
  },
  "language_info": {
   "codemirror_mode": {
    "name": "ipython",
    "version": 3
   },
   "file_extension": ".py",
   "mimetype": "text/x-python",
   "name": "python",
   "nbconvert_exporter": "python",
   "pygments_lexer": "ipython3",
   "version": "3.6.13"
  }
 },
 "nbformat": 4,
 "nbformat_minor": 5
}
