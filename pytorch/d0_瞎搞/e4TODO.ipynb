{
 "cells": [
  {
   "cell_type": "code",
   "execution_count": 4,
   "id": "99023acd",
   "metadata": {},
   "outputs": [],
   "source": [
    "import torch\n",
    "import torch.nn\n",
    "import torch.utils.data as Data\n",
    "import matplotlib\n",
    "import matplotlib.pyplot as plt"
   ]
  },
  {
   "cell_type": "code",
   "execution_count": 5,
   "id": "913457f2",
   "metadata": {},
   "outputs": [],
   "source": [
    "matplotlib.rcParams['font.sans-serif'] = ['SimHei']"
   ]
  },
  {
   "cell_type": "code",
   "execution_count": 9,
   "id": "ef3c6d59",
   "metadata": {},
   "outputs": [],
   "source": [
    "# 建模数据准备\n",
    "\n",
    "x = torch.unsqueeze(torch.linspace(-1,1,500), dim = 1)\n",
    "# print(x)\n",
    "y = x.pow(3)\n",
    "# print(y)"
   ]
  },
  {
   "cell_type": "code",
   "execution_count": 11,
   "id": "a9b93cbb",
   "metadata": {},
   "outputs": [
    {
     "data": {
      "text/plain": [
       "<torch._C.Generator at 0x25c7d02c180>"
      ]
     },
     "execution_count": 11,
     "metadata": {},
     "output_type": "execute_result"
    }
   ],
   "source": [
    "# 超参设置\n",
    "LR = 0.01\n",
    "batch_size = 15\n",
    "epoches = 5\n",
    "torch.manual_seed(10)"
   ]
  },
  {
   "cell_type": "code",
   "execution_count": 12,
   "id": "6857851c",
   "metadata": {},
   "outputs": [],
   "source": [
    "# 数据加载器\n",
    "dataset = Data.TensorDataset(x,y)\n",
    "loader = Data.DataLoader(\n",
    "        dataset = dataset,\n",
    "        batch_size=batch_size,\n",
    "        shuffle=True,\n",
    "        num_workers=2)"
   ]
  },
  {
   "cell_type": "code",
   "execution_count": 13,
   "id": "425de085",
   "metadata": {},
   "outputs": [],
   "source": [
    "# 搭建神经网络\n",
    "class Net(torch.nn.Module):\n",
    "    def __init__(self, n_input, n_hidden, n_output):\n",
    "        super(Net,self).__init__()\n",
    "        self.hidden_layer = torch.nn.Linear(n_input,n_hidden)\n",
    "        self.output_layer = torch.nn.Linear(n_hidden, n_output)\n",
    "        \n",
    "        \n",
    "    def fprward(self,input):\n",
    "        x = torch.relu(self.hidden_layer(input))\n",
    "        output = self.output_layer(x)\n",
    "        return output"
   ]
  },
  {
   "cell_type": "code",
   "execution_count": null,
   "id": "ae54ed38",
   "metadata": {},
   "outputs": [],
   "source": []
  }
 ],
 "metadata": {
  "kernelspec": {
   "display_name": "Python [conda env:.conda-pytorch] *",
   "language": "python",
   "name": "conda-env-.conda-pytorch-py"
  },
  "language_info": {
   "codemirror_mode": {
    "name": "ipython",
    "version": 3
   },
   "file_extension": ".py",
   "mimetype": "text/x-python",
   "name": "python",
   "nbconvert_exporter": "python",
   "pygments_lexer": "ipython3",
   "version": "3.6.13"
  }
 },
 "nbformat": 4,
 "nbformat_minor": 5
}
