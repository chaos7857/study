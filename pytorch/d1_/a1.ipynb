{
 "cells": [
  {
   "cell_type": "code",
   "execution_count": 15,
   "id": "77caacae",
   "metadata": {},
   "outputs": [],
   "source": [
    "%matplotlib inline\n",
    "import math\n",
    "import time\n",
    "import numpy as np\n",
    "import torch\n",
    "from d2l import torch as d2l"
   ]
  },
  {
   "cell_type": "code",
   "execution_count": 19,
   "id": "8c1f5a87",
   "metadata": {},
   "outputs": [],
   "source": [
    "def use_svg_display(): #@save\n",
    "    \"\"\"使用svg格式再jupyter中显示绘图\"\"\"\n",
    "    backend_inline.set_matplotlib_formats('svg')"
   ]
  },
  {
   "cell_type": "code",
   "execution_count": 20,
   "id": "118dab55",
   "metadata": {},
   "outputs": [],
   "source": [
    "def set_figsize(figsize=(3.5,2.5)): #@save\n",
    "    \"\"\"设置matplotlib图表大小\"\"\"\n",
    "    use_svg_display()\n",
    "    d2l.plt.rcParams['figure.figsize'] = figsize"
   ]
  },
  {
   "cell_type": "code",
   "execution_count": 21,
   "id": "08b038ce",
   "metadata": {},
   "outputs": [],
   "source": [
    "#@save\n",
    "def set_axes(axes, xlabel, ylabel,xlim, ylim, xscale, yscale, legend):\n",
    "    \"\"\"设置matplotlib的轴\"\"\"\n",
    "    axes.set_xlabel(xlabel)\n",
    "    axes.set_ylabel(ylabel)\n",
    "    axes.set_xscale(xscale)\n",
    "    axes.set_yscale(yscale)\n",
    "    axes.set_xlim(xlim)\n",
    "    axes.set_ylim(ylim)\n",
    "    if legend: \n",
    "        axes.legend(legend)\n",
    "    axes.grid()"
   ]
  },
  {
   "cell_type": "code",
   "execution_count": 22,
   "id": "4e8837a2",
   "metadata": {},
   "outputs": [
    {
     "ename": "SyntaxError",
     "evalue": "invalid syntax (<ipython-input-22-1351c0e85b5a>, line 2)",
     "output_type": "error",
     "traceback": [
      "\u001b[1;36m  File \u001b[1;32m\"<ipython-input-22-1351c0e85b5a>\"\u001b[1;36m, line \u001b[1;32m2\u001b[0m\n\u001b[1;33m    def plot(X, Y=None)\u001b[0m\n\u001b[1;37m                       ^\u001b[0m\n\u001b[1;31mSyntaxError\u001b[0m\u001b[1;31m:\u001b[0m invalid syntax\n"
     ]
    }
   ],
   "source": [
    "#@save\n",
    "def plot(X, Y=None, xlabel=None, ylabel=None, legend=None, xlim=None,\n",
    "         ylim=None, xscale='linear', yscale='linear',\n",
    "         fmts=('-', 'm--', 'g-.', 'r:'), figsize=(3.5, 2.5), axes=None):\n",
    "    \"\"\"Plot data points.\"\"\"\n",
    "    if legend is None:\n",
    "        legend = []\n",
    "\n",
    "    set_figsize(figsize)\n",
    "    axes = axes if axes else d2l.plt.gca()\n",
    "\n",
    "    # Return True if `X` (tensor or list) has 1 axis\n",
    "    def has_one_axis(X):\n",
    "        return (hasattr(X, \"ndim\") and X.ndim == 1 or\n",
    "                isinstance(X, list) and not hasattr(X[0], \"__len__\"))\n",
    "\n",
    "    if has_one_axis(X):\n",
    "        X = [X]\n",
    "    if Y is None:\n",
    "        X, Y = [[]] * len(X), X\n",
    "    elif has_one_axis(Y):\n",
    "        Y = [Y]\n",
    "    if len(X) != len(Y):\n",
    "        X = X * len(Y)\n",
    "    axes.cla()\n",
    "    for x, y, fmt in zip(X, Y, fmts):\n",
    "        if len(x):\n",
    "            axes.plot(x, y, fmt)\n",
    "        else:\n",
    "            axes.plot(y, fmt)\n",
    "    set_axes(axes, xlabel, ylabel, xlim, ylim, xscale, yscale, legend)"
   ]
  },
  {
   "cell_type": "code",
   "execution_count": 23,
   "id": "7ef0e6b5",
   "metadata": {},
   "outputs": [
    {
     "name": "stdout",
     "output_type": "stream",
     "text": [
      "['Accumulator', 'AddNorm', 'AdditiveAttention', 'Animator', 'AttentionDecoder', 'BERTEncoder', 'BERTModel', 'BananasDataset', 'Benchmark', 'DATA_HUB', 'DATA_URL', 'Decoder', 'DotProductAttention', 'Encoder', 'EncoderBlock', 'EncoderDecoder', 'F', 'Image', 'MaskLM', 'MaskedSoftmaxCELoss', 'MultiHeadAttention', 'NextSentencePred', 'PositionWiseFFN', 'PositionalEncoding', 'RNNModel', 'RNNModelScratch', 'RandomGenerator', 'Residual', 'SNLIDataset', 'Seq2SeqEncoder', 'SeqDataLoader', 'Timer', 'TokenEmbedding', 'TransformerEncoder', 'VOCSegDataset', 'VOC_CLASSES', 'VOC_COLORMAP', 'Vocab', '_WikiTextDataset', '__builtins__', '__cached__', '__doc__', '__file__', '__loader__', '__name__', '__package__', '__spec__', '_get_batch_loss_bert', '_get_mlm_data_from_tokens', '_get_next_sentence', '_get_nsp_data_from_paragraph', '_pad_bert_inputs', '_read_wiki', '_replace_mlm_tokens', 'abs', 'accuracy', 'annotate', 'arange', 'argmax', 'assign_anchor_to_bbox', 'astype', 'batchify', 'bbox_to_rect', 'bleu', 'box_center_to_corner', 'box_corner_to_center', 'box_iou', 'build_array_nmt', 'collections', 'concat', 'copyfile', 'corr2d', 'cos', 'cosh', 'count_corpus', 'd2l', 'data', 'defaultdict', 'display', 'download', 'download_all', 'download_extract', 'evaluate_accuracy', 'evaluate_accuracy_gpu', 'evaluate_loss', 'exp', 'eye', 'float32', 'get_centers_and_contexts', 'get_data_ch11', 'get_dataloader_workers', 'get_fashion_mnist_labels', 'get_negatives', 'get_tokens_and_segments', 'grad_clipping', 'hashlib', 'int32', 'linreg', 'linspace', 'load_array', 'load_corpus_time_machine', 'load_data_bananas', 'load_data_fashion_mnist', 'load_data_imdb', 'load_data_nmt', 'load_data_ptb', 'load_data_snli', 'load_data_time_machine', 'load_data_voc', 'load_data_wiki', 'log', 'masked_softmax', 'math', 'matmul', 'meshgrid', 'multibox_detection', 'multibox_prior', 'multibox_target', 'nms', 'nn', 'normal', 'np', 'numpy', 'offset_boxes', 'offset_inverse', 'ones', 'os', 'pd', 'plot', 'plt', 'predict_ch3', 'predict_ch8', 'predict_sentiment', 'predict_seq2seq', 'predict_snli', 'preprocess_nmt', 'rand', 'random', 're', 'read_csv_labels', 'read_data_bananas', 'read_data_nmt', 'read_imdb', 'read_ptb', 'read_snli', 'read_time_machine', 'read_voc_images', 'reduce_sum', 'reorg_test', 'reorg_train_valid', 'requests', 'reshape', 'resnet18', 'seq_data_iter_random', 'seq_data_iter_sequential', 'sequence_mask', 'set_axes', 'set_figsize', 'sgd', 'show_bboxes', 'show_heatmaps', 'show_images', 'show_list_len_pair_hist', 'show_trace_2d', 'shutil', 'sin', 'sinh', 'size', 'split_batch', 'squared_loss', 'stack', 'subsample', 'synthetic_data', 'sys', 'tanh', 'tarfile', 'tensor', 'time', 'to', 'tokenize', 'tokenize_nmt', 'torch', 'torchvision', 'train_2d', 'train_batch_ch13', 'train_ch11', 'train_ch13', 'train_ch3', 'train_ch6', 'train_ch8', 'train_concise_ch11', 'train_epoch_ch3', 'train_epoch_ch8', 'train_seq2seq', 'transforms', 'transpose', 'transpose_output', 'transpose_qkv', 'truncate_pad', 'try_all_gpus', 'try_gpu', 'update_D', 'update_G', 'use_svg_display', 'voc_colormap2label', 'voc_label_indices', 'voc_rand_crop', 'zeros', 'zipfile']\n"
     ]
    }
   ],
   "source": [
    "print(dir(d2l))"
   ]
  },
  {
   "cell_type": "code",
   "execution_count": 26,
   "id": "06199b34",
   "metadata": {},
   "outputs": [
    {
     "name": "stdout",
     "output_type": "stream",
     "text": [
      "Help on function plot in module d2l.torch:\n",
      "\n",
      "plot(X, Y=None, xlabel=None, ylabel=None, legend=None, xlim=None, ylim=None, xscale='linear', yscale='linear', fmts=('-', 'm--', 'g-.', 'r:'), figsize=(3.5, 2.5), axes=None)\n",
      "    Plot data points.\n",
      "\n"
     ]
    }
   ],
   "source": [
    "help(d2l.plot)"
   ]
  },
  {
   "cell_type": "code",
   "execution_count": 27,
   "id": "ab264ce1",
   "metadata": {},
   "outputs": [],
   "source": [
    "d2l.plot??"
   ]
  },
  {
   "cell_type": "code",
   "execution_count": null,
   "id": "1ae574c4",
   "metadata": {},
   "outputs": [],
   "source": []
  }
 ],
 "metadata": {
  "kernelspec": {
   "display_name": "Python [conda env:.conda-pytorch] *",
   "language": "python",
   "name": "conda-env-.conda-pytorch-py"
  },
  "language_info": {
   "codemirror_mode": {
    "name": "ipython",
    "version": 3
   },
   "file_extension": ".py",
   "mimetype": "text/x-python",
   "name": "python",
   "nbconvert_exporter": "python",
   "pygments_lexer": "ipython3",
   "version": "3.6.13"
  }
 },
 "nbformat": 4,
 "nbformat_minor": 5
}
