{
 "cells": [
  {
   "cell_type": "code",
   "execution_count": 1,
   "id": "ba22c7af",
   "metadata": {},
   "outputs": [
    {
     "data": {
      "image/png": "[encoded data removed]",
      "text/plain": [
       "<Figure size 432x288 with 1 Axes>"
      ]
     },
     "metadata": {
      "needs_background": "light"
     },
     "output_type": "display_data"
    }
   ],
   "source": [
    "import os\n",
    "import numpy as np\n",
    "from torch.utils.data import Dataset\n",
    "import gzip\n",
    "import matplotlib.pyplot as plt  # 绘图库\n",
    "\n",
    "\n",
    "class Mnist(Dataset):\n",
    "    def __init__(self, root, train=True, transform=None):\n",
    "        # 根据是否为训练集，得到文件名前缀\n",
    "        self.file_pre = 'train' if train == True else 't10k'\n",
    "        self.transform = transform  # 定义变换函数\n",
    "        # 生成对应数据集的图片和标签文件路径\n",
    "        self.label_path = os.path.join(root,\n",
    "                                       '%s-labels-idx1-ubyte.gz' % self.file_pre)\n",
    "        self.image_path = os.path.join(root,\n",
    "                                       '%s-images-idx3-ubyte.gz' % self.file_pre)\n",
    "\n",
    "        # 读取文件数据，返回图片和标签\n",
    "        self.images, self.labels = self.__read_data__(\n",
    "            self.image_path,\n",
    "            self.label_path)\n",
    "\n",
    "    def __read_data__(self, image_path, label_path):\n",
    "        # 数据集读取\n",
    "        with gzip.open(label_path, 'rb') as lbpath:\n",
    "            labels = np.frombuffer(lbpath.read(), np.uint8,\n",
    "                                   offset=8)  # 将data以流的形式读入转化成ndarray对象，ndarray对象是用于存放同类型元素的多维数组\n",
    "        with gzip.open(image_path, 'rb') as imgpath:\n",
    "            images = np.frombuffer(imgpath.read(), np.uint8,\n",
    "                                   offset=16).reshape(len(labels), 28, 28)  # 将图片以标签文件的元素个数读取，设置大小为28*28\n",
    "        return images, labels\n",
    "\n",
    "    def __getitem__(self, index):  # 迭代使用？使用Minist()会调用_getitem_\n",
    "        image, label = self.images[index], int(self.labels[index])\n",
    "\n",
    "        # 如果需要转成 tensor，（RGB,HWC）张量， 则使用 tansform\n",
    "        if self.transform is not None:\n",
    "            image = self.transform(np.array(image))  # 此处需要用 np.array(image)，转化为数组\n",
    "        return image, label\n",
    "\n",
    "    def __len__(self):  # 获取元素个数\n",
    "        return len(self.labels)\n",
    "\n",
    "\n",
    "if __name__ == '__main__':\n",
    "    # 生成实例\n",
    "    train_set = Mnist(\n",
    "        root=r'C:\\Users\\Admin\\Desktop\\projects\\Pytorch_study\\mnist识别\\mnist',  # MNIST数据集路径\n",
    "        #train=False,\n",
    "        #\"C:\\Users\\Admin\\Desktop\\projects\\Pytorch_study\\mnist识别\\mnist\\train-images.idx3-ubyte\"\n",
    "    )\n",
    "    # 取一组数据并展示\n",
    "    (data, label) = train_set[0]  # 第一组数据\n",
    "    plt.imshow(data.reshape(28, 28), cmap='gray')  # 灰色图像\n",
    "    plt.title('label is :{}'.format(label))\n",
    "    plt.show()\n"
   ]
  },
  {
   "cell_type": "code",
   "execution_count": null,
   "id": "4767cb1d",
   "metadata": {},
   "outputs": [],
   "source": []
  }
 ],
 "metadata": {
  "kernelspec": {
   "display_name": "Python [conda env:.conda-pytorch] *",
   "language": "python",
   "name": "conda-env-.conda-pytorch-py"
  },
  "language_info": {
   "codemirror_mode": {
    "name": "ipython",
    "version": 3
   },
   "file_extension": ".py",
   "mimetype": "text/x-python",
   "name": "python",
   "nbconvert_exporter": "python",
   "pygments_lexer": "ipython3",
   "version": "3.6.13"
  }
 },
 "nbformat": 4,
 "nbformat_minor": 5
}
